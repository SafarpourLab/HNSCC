{
 "cells": [
  {
   "cell_type": "markdown",
   "id": "9163b8c7",
   "metadata": {},
   "source": [
    "## Data input"
   ]
  },
  {
   "cell_type": "code",
   "execution_count": null,
   "id": "335ded87",
   "metadata": {},
   "outputs": [],
   "source": [
    "import scanpy as sc\n",
    "import numpy as np\n",
    "import scipy as sp\n",
    "import pandas as pd\n",
    "import matplotlib.pyplot as plt\n",
    "from matplotlib import rcParams\n",
    "from matplotlib import colors\n",
    "import seaborn as sb\n"
   ]
  },
  {
   "cell_type": "code",
   "execution_count": null,
   "id": "ad82cd1b",
   "metadata": {},
   "outputs": [],
   "source": [
    "# Set up data loading\n",
    "\n",
    "#Data files\n",
    "sample_strings = ['Pre_D1','Post_D1','Pre_D2','Post_D2','Pre_D3','Post_D3','Pre_D4','Post_D4']\n",
    "sample_id_strings = ['65','66','67','68','69','70','71','72']\n",
    "file_base = './head_and_neck/GSE195832_RAW/GSM58515'\n",
    "exp_string ='_'\n",
    "data_file_end = '_matrix.mtx'\n",
    "barcode_file_end = '_barcodes.tsv'\n",
    "gene_file_end = '_features.tsv'"
   ]
  },
  {
   "cell_type": "code",
   "execution_count": null,
   "id": "79a0cd94",
   "metadata": {},
   "outputs": [],
   "source": [
    "# First data set load & annotation\n",
    "#Parse Filenames\n",
    "sample = sample_strings.pop(0)\n",
    "sample_id = sample_id_strings.pop(0)\n",
    "data_file = file_base+sample_id+exp_string+sample+data_file_end\n",
    "barcode_file = file_base+sample_id+exp_string+sample+barcode_file_end\n",
    "gene_file = file_base+sample_id+exp_string+sample+gene_file_end\n",
    "\n",
    "#Load data\n",
    "adata = sc.read(data_file, cache=True)\n",
    "adata = adata.transpose()\n",
    "adata.X = adata.X.toarray()\n",
    "\n",
    "barcodes = pd.read_csv(barcode_file, header=None, sep='\\t')\n",
    "genes = pd.read_csv(gene_file, header=None, sep='\\t')\n",
    "\n",
    "#Annotate data\n",
    "barcodes.rename(columns={0:'barcode'}, inplace=True)\n",
    "barcodes.set_index('barcode', inplace=True)\n",
    "adata.obs = barcodes\n",
    "adata.obs['sample'] = [sample]*adata.n_obs\n",
    "adata.obs['status'] = [sample.split(\"_\")[0]]*adata.n_obs\n",
    "adata.obs['donor'] = [sample.split(\"_\")[1]]*adata.n_obs\n",
    "\n",
    "genes.rename(columns={0:'gene_id', 1:'gene_symbol'}, inplace=True)\n",
    "genes.set_index('gene_symbol', inplace=True)\n",
    "adata.var = genes\n"
   ]
  },
  {
   "cell_type": "code",
   "execution_count": null,
   "id": "70e4c253",
   "metadata": {},
   "outputs": [],
   "source": [
    "# Loop to load rest of data sets\n",
    "for i in range(len(sample_strings)):\n",
    "    #Parse Filenames\n",
    "    sample = sample_strings[i]\n",
    "    sample_id = sample_id_strings[i]\n",
    "    data_file = file_base+sample_id+exp_string+sample+data_file_end\n",
    "    barcode_file = file_base+sample_id+exp_string+sample+barcode_file_end\n",
    "    gene_file = file_base+sample_id+exp_string+sample+gene_file_end\n",
    "    \n",
    "    #Load data\n",
    "    adata_tmp = sc.read(data_file, cache=True)\n",
    "    adata_tmp = adata_tmp.transpose()\n",
    "    adata_tmp.X = adata_tmp.X.toarray()\n",
    "\n",
    "    barcodes_tmp = pd.read_csv(barcode_file, header=None, sep='\\t')\n",
    "    genes_tmp = pd.read_csv(gene_file, header=None, sep='\\t')\n",
    "    \n",
    "    #Annotate data\n",
    "    barcodes_tmp.rename(columns={0:'barcode'}, inplace=True)\n",
    "    barcodes_tmp.set_index('barcode', inplace=True)\n",
    "    adata_tmp.obs = barcodes_tmp\n",
    "    adata_tmp.obs['sample'] = [sample]*adata_tmp.n_obs\n",
    "    adata_tmp.obs['status'] = [sample.split(\"_\")[0]]*adata_tmp.n_obs\n",
    "    adata_tmp.obs['donor'] = [sample.split(\"_\")[1]]*adata_tmp.n_obs\n",
    "    \n",
    "    genes_tmp.rename(columns={0:'gene_id', 1:'gene_symbol'}, inplace=True)\n",
    "    genes_tmp.set_index('gene_symbol', inplace=True)\n",
    "    adata_tmp.var = genes_tmp\n",
    "    adata_tmp.var_names_make_unique()\n",
    "\n",
    "     # Concatenate to main adata object\n",
    "    adata.var_names_make_unique()\n",
    "    adata = adata.concatenate(adata_tmp, batch_key='sample_id')\n",
    "    #adata.var['gene_id'] = adata.var['gene_id-1']\n",
    "    #adata.var.drop(columns = ['gene_id-1', 'gene_id-0'], inplace=True)\n",
    "    adata.obs.drop(columns=['sample_id'], inplace=True)\n",
    "    adata.obs_names = [c.split(\"-\")[0] for c in adata.obs_names]\n",
    "    adata.obs_names_make_unique(join='_')"
   ]
  },
  {
   "cell_type": "code",
   "execution_count": null,
   "id": "7f3ff65f",
   "metadata": {},
   "outputs": [],
   "source": [
    "#Annotate the data sets\n",
    "print(adata.obs['status'].value_counts())\n",
    "print('')\n",
    "print(adata.obs['donor'].value_counts())\n",
    "print('')\n",
    "print(adata.obs['sample'].value_counts())\n",
    "print('')"
   ]
  },
  {
   "cell_type": "markdown",
   "id": "20cc7179",
   "metadata": {},
   "source": [
    "## Pre-Analysis"
   ]
  },
  {
   "cell_type": "code",
   "execution_count": null,
   "id": "08b6a56d",
   "metadata": {},
   "outputs": [],
   "source": [
    "# Quality control - calculate QC covariates\n",
    "adata.obs['n_counts'] = adata.X.sum(1)\n",
    "adata.obs['log_counts'] = np.log(adata.obs['n_counts'])\n",
    "adata.obs['n_genes'] = (adata.X > 0).sum(1)\n",
    "mt_gene_mask = [gene.startswith('MT-') for gene in adata.var_names]\n",
    "adata.obs['mt_frac'] = adata.X[:, mt_gene_mask].sum(1)/adata.obs['n_counts']"
   ]
  },
  {
   "cell_type": "code",
   "execution_count": null,
   "id": "ee2de6bb",
   "metadata": {},
   "outputs": [],
   "source": [
    "Ribo_gene_mask = [gene.startswith('RPL-') for gene in adata.var_names]\n",
    "adata.obs['Ribo_frac'] = adata.X[:, Ribo_gene_mask].sum(1)/adata.obs['n_counts']"
   ]
  },
  {
   "cell_type": "code",
   "execution_count": null,
   "id": "b396d549",
   "metadata": {},
   "outputs": [],
   "source": [
    "#Data quality summary plots\n",
    "p1 = sc.pl.scatter(adata, 'n_counts', 'n_genes', color='mt_frac')\n",
    "p2 = sc.pl.scatter(adata[adata.obs['n_counts']<30000], 'n_counts', 'n_genes', color='mt_frac')"
   ]
  },
  {
   "cell_type": "code",
   "execution_count": null,
   "id": "4bc82d17",
   "metadata": {},
   "outputs": [],
   "source": [
    "#Thresholding decision: counts\n",
    "p3 = sb.distplot(adata.obs['n_counts'], kde=False)\n",
    "plt.show()\n",
    "\n",
    "p4 = sb.distplot(adata.obs['n_counts'][adata.obs['n_counts']<1000], kde=False, bins=60)\n",
    "plt.show()\n",
    "\n",
    "p5 = sb.distplot(adata.obs['n_counts'][adata.obs['n_counts']>10000], kde=False, bins=60)\n",
    "plt.show()"
   ]
  },
  {
   "cell_type": "code",
   "execution_count": null,
   "id": "f7c3e94d",
   "metadata": {},
   "outputs": [],
   "source": [
    "p6 = sb.distplot(adata.obs['n_genes'], kde=False, bins=60)\n",
    "plt.show()\n",
    "\n",
    "p7 = sb.distplot(adata.obs['n_genes'][adata.obs['n_genes']<1500], kde=False, bins=60)\n",
    "plt.show()\n"
   ]
  },
  {
   "cell_type": "code",
   "execution_count": null,
   "id": "52c34347",
   "metadata": {},
   "outputs": [],
   "source": [
    "# Filter cells according to identified QC thresholds:\n",
    "print('Total number of cells: {:d}'.format(adata.n_obs))\n",
    "\n",
    "sc.pp.filter_cells(adata, min_counts = 500)\n",
    "print('Number of cells after min count filter: {:d}'.format(adata.n_obs))\n",
    "\n",
    "sc.pp.filter_cells(adata, max_counts = 75000)\n",
    "print('Number of cells after max count filter: {:d}'.format(adata.n_obs))\n",
    "\n",
    "adata = adata[adata.obs['mt_frac'] < 0.2]\n",
    "print('Number of cells after MT filter: {:d}'.format(adata.n_obs))\n",
    "\n",
    "sc.pp.filter_cells(adata, min_genes = 200)\n",
    "print('Number of cells after gene filter: {:d}'.format(adata.n_obs))\n"
   ]
  },
  {
   "cell_type": "code",
   "execution_count": null,
   "id": "d51a4211",
   "metadata": {},
   "outputs": [],
   "source": [
    "#Filter genes:\n",
    "print('Total number of genes: {:d}'.format(adata.n_vars))\n",
    "\n",
    "# Min 20 cells - filters out 0 count genes\n",
    "sc.pp.filter_genes(adata, min_cells=20)\n",
    "print('Number of genes after cell filter: {:d}'.format(adata.n_vars))"
   ]
  },
  {
   "cell_type": "markdown",
   "id": "7084082f",
   "metadata": {},
   "source": [
    "## Normalization"
   ]
  },
  {
   "cell_type": "code",
   "execution_count": null,
   "id": "3eff33b7",
   "metadata": {},
   "outputs": [],
   "source": [
    "sc.pp.normalize_total(adata, target_sum=1e4)"
   ]
  },
  {
   "cell_type": "code",
   "execution_count": null,
   "id": "98b34b73",
   "metadata": {},
   "outputs": [],
   "source": [
    "sc.pp.log1p(adata)"
   ]
  },
  {
   "cell_type": "markdown",
   "id": "25f9b628",
   "metadata": {},
   "source": [
    "## Batch Effect Correction"
   ]
  },
  {
   "cell_type": "code",
   "execution_count": null,
   "id": "37bccb36",
   "metadata": {},
   "outputs": [],
   "source": [
    "#ComBat batch correction\n",
    "sc.pp.combat(adata, key='sample')"
   ]
  },
  {
   "cell_type": "markdown",
   "id": "f9771f0b",
   "metadata": {},
   "source": [
    "## Highly Variable Gene "
   ]
  },
  {
   "cell_type": "code",
   "execution_count": null,
   "id": "3b512b87",
   "metadata": {},
   "outputs": [],
   "source": [
    "sc.pp.highly_variable_genes(adata, flavor='cell_ranger', n_top_genes=4000)\n",
    "print('\\n','Number of highly variable genes: {:d}'.format(np.sum(adata.var['highly_variable'])))"
   ]
  },
  {
   "cell_type": "code",
   "execution_count": null,
   "id": "e718ac8a",
   "metadata": {},
   "outputs": [],
   "source": [
    "sc.pl.highly_variable_genes(adata)"
   ]
  },
  {
   "cell_type": "markdown",
   "id": "8e290b91",
   "metadata": {},
   "source": [
    "## Visualization"
   ]
  },
  {
   "cell_type": "code",
   "execution_count": null,
   "id": "2f023980",
   "metadata": {},
   "outputs": [],
   "source": [
    "# Calculate the visualizations\n",
    "sc.pp.pca(adata, n_comps=50, use_highly_variable=True, svd_solver='arpack')\n",
    "sc.pp.neighbors(adata)\n",
    "sc.tl.umap(adata)\n",
    "sc.pl.umap(adata, color='n_counts')"
   ]
  },
  {
   "cell_type": "markdown",
   "id": "b75e2179",
   "metadata": {},
   "source": [
    "## Custering"
   ]
  },
  {
   "cell_type": "code",
   "execution_count": null,
   "id": "f88ff37e",
   "metadata": {},
   "outputs": [],
   "source": [
    "# Perform clustering - using highly variable genes\n",
    "sc.tl.leiden(adata, key_added='leiden_r0.4')\n",
    "sc.tl.leiden(adata, resolution=0.4, key_added='leiden_r0.4', random_state=20)"
   ]
  },
  {
   "cell_type": "markdown",
   "id": "9f1fd8fe",
   "metadata": {},
   "source": [
    "## Treg markers"
   ]
  },
  {
   "cell_type": "code",
   "execution_count": null,
   "id": "3361f4ff",
   "metadata": {},
   "outputs": [],
   "source": [
    "#Treg markers\n",
    "sc.pl.umap(adata, color=['CD3D','CTLA4','TIGIT','FANK1'], s=50, frameon=False, ncols=4, vmax='p99')"
   ]
  },
  {
   "cell_type": "markdown",
   "id": "95719ed7",
   "metadata": {},
   "source": [
    "## Cell Fraction Analysis"
   ]
  },
  {
   "cell_type": "code",
   "execution_count": null,
   "id": "ecd42783",
   "metadata": {},
   "outputs": [],
   "source": [
    "tmp = pd.crosstab(ADATA.obs['status'],adata.obs['sample'], normalize='index')\n",
    "tmp.plot.bar(stacked=False).legend(loc='center left', bbox_to_anchor=(1.0, 0.5))"
   ]
  },
  {
   "cell_type": "markdown",
   "id": "d05908bf",
   "metadata": {},
   "source": [
    "## Cell Cell Communications"
   ]
  },
  {
   "cell_type": "code",
   "execution_count": null,
   "id": "a3071f25",
   "metadata": {},
   "outputs": [],
   "source": [
    "import squidpy as sq"
   ]
  },
  {
   "cell_type": "code",
   "execution_count": null,
   "id": "aa33e566",
   "metadata": {
    "scrolled": true
   },
   "outputs": [],
   "source": [
    "rres = sq.gr.ligrec(\n",
    "    post,\n",
    "    n_perms=1000,\n",
    "    cluster_key=\"leiden_r0.4\",\n",
    "    copy=True,\n",
    "    seed=0,\n",
    "    n_jobs=1,\n",
    "    threshold=0.05,\n",
    "    use_raw=False,\n",
    "    transmitter_params={\"categories\": \"ligand\"},\n",
    "    receiver_params={\"categories\": \"receptor\"},\n",
    "    interactions_params={'resources': 'CellPhoneDB'},\n",
    "    )"
   ]
  },
  {
   "cell_type": "code",
   "execution_count": null,
   "id": "a5bffd73",
   "metadata": {
    "scrolled": false
   },
   "outputs": [],
   "source": [
    "sq.pl.ligrec(rres, source_groups=\"Treg\",target_groups=\"TAMs\", remove_empty_interactions=True, means_range=(0,np.inf), alpha=0.01, swap_axes=True, pvalue_threshold=0.05, remove_nonsig_interactions=True)\n"
   ]
  },
  {
   "cell_type": "markdown",
   "id": "71a8cc2c",
   "metadata": {},
   "source": [
    "## DEG analysis"
   ]
  },
  {
   "cell_type": "code",
   "execution_count": null,
   "id": "cfa72477",
   "metadata": {},
   "outputs": [],
   "source": [
    "sc.tl.rank_genes_groups(adata, 'status', groups=['Post'], reference='Pre', method='t-test', use_raw=True)\n",
    "sc.pl.rank_genes_groups(adata, groups=['Post'], n_genes=50)"
   ]
  },
  {
   "cell_type": "markdown",
   "id": "672dcdb7",
   "metadata": {},
   "source": [
    "## scFates"
   ]
  },
  {
   "cell_type": "code",
   "execution_count": null,
   "id": "23680f2b",
   "metadata": {},
   "outputs": [],
   "source": [
    "import scFates as scf\n",
    "import warnings"
   ]
  },
  {
   "cell_type": "code",
   "execution_count": null,
   "id": "16104794",
   "metadata": {
    "scrolled": true
   },
   "outputs": [],
   "source": [
    "adata=adata[:,adata.var.highly_variable]\n",
    "sc.pp.scale(adata)"
   ]
  },
  {
   "cell_type": "code",
   "execution_count": null,
   "id": "64526c20",
   "metadata": {
    "scrolled": true
   },
   "outputs": [],
   "source": [
    "sc.pl.pca(adata,color=\"leiden_r0.4\", legend_loc='on data',cmap=\"RdBu_r\")"
   ]
  },
  {
   "cell_type": "code",
   "execution_count": null,
   "id": "1cf969de",
   "metadata": {},
   "outputs": [],
   "source": [
    "scf.tl.curve(adata,Nodes=10,use_rep=\"X_pca\",ndims_rep=2,)\n"
   ]
  },
  {
   "cell_type": "code",
   "execution_count": null,
   "id": "141baeb1",
   "metadata": {},
   "outputs": [],
   "source": [
    "scf.pl.graph(adata,basis=\"pca\")\n"
   ]
  },
  {
   "cell_type": "code",
   "execution_count": null,
   "id": "fd8734f0",
   "metadata": {},
   "outputs": [],
   "source": [
    "sc.pl.pca(sc.AnnData(adata.obsm[\"X_R\"],obsm=adata.obsm),color=\"5\",cmap=\"Reds\")\n"
   ]
  },
  {
   "cell_type": "code",
   "execution_count": null,
   "id": "d6ac6b40",
   "metadata": {},
   "outputs": [],
   "source": [
    "scf.tl.convert_to_soft(adata,1,1000)"
   ]
  },
  {
   "cell_type": "code",
   "execution_count": null,
   "id": "33a04406",
   "metadata": {},
   "outputs": [],
   "source": [
    "scf.pl.graph(adata,basis=\"pca\")"
   ]
  },
  {
   "cell_type": "code",
   "execution_count": null,
   "id": "c213d369",
   "metadata": {},
   "outputs": [],
   "source": [
    "sc.pl.pca(sc.AnnData(adata.obsm[\"X_R\"],obsm=adata.obsm),color=\"0\",cmap=\"Reds\")"
   ]
  },
  {
   "cell_type": "code",
   "execution_count": null,
   "id": "8efcd818",
   "metadata": {},
   "outputs": [],
   "source": [
    "scf.tl.root(adata,\"MARCO\")"
   ]
  },
  {
   "cell_type": "code",
   "execution_count": null,
   "id": "975dda1d",
   "metadata": {},
   "outputs": [],
   "source": [
    "scf.tl.pseudotime(adata,n_jobs=20,n_map=100,seed=42)"
   ]
  },
  {
   "cell_type": "code",
   "execution_count": null,
   "id": "57240174",
   "metadata": {},
   "outputs": [],
   "source": [
    "scf.pl.trajectory(adata,basis=\"pca\",arrows=True,arrow_offset=3)"
   ]
  },
  {
   "cell_type": "code",
   "execution_count": null,
   "id": "a784a7ac",
   "metadata": {},
   "outputs": [],
   "source": [
    "scf.tl.linearity_deviation(adata,start_milestone=\"1\",end_milestone=\"0\",n_jobs=20,plot=True,basis=\"pca\")"
   ]
  },
  {
   "cell_type": "code",
   "execution_count": null,
   "id": "d68d90fd",
   "metadata": {},
   "outputs": [],
   "source": [
    "scf.pl.linearity_deviation(adata,start_milestone=\"1\",end_milestone=\"0\")"
   ]
  },
  {
   "cell_type": "code",
   "execution_count": null,
   "id": "f2696c65",
   "metadata": {},
   "outputs": [],
   "source": [
    "scf.tl.test_association(adata,n_jobs=20)"
   ]
  },
  {
   "cell_type": "code",
   "execution_count": null,
   "id": "c017e1d3",
   "metadata": {},
   "outputs": [],
   "source": [
    "scf.tl.test_association(adata,reapply_filters=True,A_cut=.10)\n",
    "scf.pl.test_association(adata)"
   ]
  },
  {
   "cell_type": "code",
   "execution_count": null,
   "id": "aa149dc4",
   "metadata": {},
   "outputs": [],
   "source": [
    "scf.tl.fit(adata,n_jobs=20)"
   ]
  },
  {
   "cell_type": "code",
   "execution_count": null,
   "id": "151d19b5",
   "metadata": {},
   "outputs": [],
   "source": [
    "scf.pl.single_trend(adata,\"Your interested genes\",basis=\"pca\",color_exp=\"k\",cmap_seg='RdBu_r')"
   ]
  },
  {
   "cell_type": "code",
   "execution_count": null,
   "id": "c433abef",
   "metadata": {},
   "outputs": [],
   "source": [
    "scf.tl.cluster(adata,knn=100,metric=\"correlation\")"
   ]
  },
  {
   "cell_type": "code",
   "execution_count": null,
   "id": "5fecc63b",
   "metadata": {},
   "outputs": [],
   "source": [
    "adata.var.fit_clusters.unique()"
   ]
  },
  {
   "cell_type": "code",
   "execution_count": null,
   "id": "bc21114c",
   "metadata": {},
   "outputs": [],
   "source": [
    "for c in adata.var[\"fit_clusters\"].unique():\n",
    "    scf.pl.trends(adata,features=adata.var_names[adata.var.fit_clusters==c],basis=\"pca\")"
   ]
  }
 ],
 "metadata": {
  "kernelspec": {
   "display_name": "Python 3 (ipykernel)",
   "language": "python",
   "name": "python3"
  },
  "language_info": {
   "codemirror_mode": {
    "name": "ipython",
    "version": 3
   },
   "file_extension": ".py",
   "mimetype": "text/x-python",
   "name": "python",
   "nbconvert_exporter": "python",
   "pygments_lexer": "ipython3",
   "version": "3.11.4"
  }
 },
 "nbformat": 4,
 "nbformat_minor": 5
}
